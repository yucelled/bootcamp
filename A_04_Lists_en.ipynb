{
  "nbformat": 4,
  "nbformat_minor": 0,
  "metadata": {
    "kernelspec": {
      "display_name": "Python 3",
      "language": "python",
      "name": "python3"
    },
    "language_info": {
      "codemirror_mode": {
        "name": "ipython",
        "version": 3
      },
      "file_extension": ".py",
      "mimetype": "text/x-python",
      "name": "python",
      "nbconvert_exporter": "python",
      "pygments_lexer": "ipython3",
      "version": "3.8.7"
    },
    "colab": {
      "name": "Copy of A_04_Lists_en.ipynb",
      "provenance": [],
      "collapsed_sections": [],
      "include_colab_link": true
    }
  },
  "cells": [
    {
      "cell_type": "markdown",
      "metadata": {
        "id": "view-in-github",
        "colab_type": "text"
      },
      "source": [
        "<a href=\"https://colab.research.google.com/github/yucelled/bootcamp/blob/main/A_04_Lists_en.ipynb\" target=\"_parent\"><img src=\"https://colab.research.google.com/assets/colab-badge.svg\" alt=\"Open In Colab\"/></a>"
      ]
    },
    {
      "cell_type": "markdown",
      "metadata": {
        "id": "tM1BOqGsqP_O"
      },
      "source": [
        "**1.** Write a code to compute the sum of the two lowest numbers and the two highest numbers in the following list.\n",
        "\n",
        "        my_list = [34, 56, 76, 45, 2, 12, 67, 98, 37, 54, 66]"
      ]
    },
    {
      "cell_type": "code",
      "metadata": {
        "id": "HBu2CiUgqP_W",
        "colab": {
          "base_uri": "https://localhost:8080/"
        },
        "outputId": "b1d65393-1156-485d-c379-7be7cf1f549b"
      },
      "source": [
        "my_list = [34, 56, 76, 45, 2, 12, 67, 98, 37, 54, 66]\n",
        "length = len(my_list)\n",
        "my_list.sort()\n",
        "max = my_list[length-1]\n",
        "second_max = my_list[length-2]\n",
        "min = my_list[0]\n",
        "second_min = my_list[1]\n",
        "print(\"sum of the two lowest numbers and the two highest numbers in the list is: \", max + second_max + min + second_min)"
      ],
      "execution_count": 8,
      "outputs": [
        {
          "output_type": "stream",
          "text": [
            "sum of the two lowest numbers and the two highest numbers in the list is:  188\n"
          ],
          "name": "stdout"
        }
      ]
    },
    {
      "cell_type": "markdown",
      "metadata": {
        "id": "8XEi4x6IqP_Y"
      },
      "source": [
        "**2.** The following two lists contain student names and scores. Write a code that gets the name from the user and prints the score of that student.\n",
        "\n",
        "        names = [\"David\", \"Michael\", \"John\", \"James\", \"Greg\", \"Mark\", \n",
        "                 \"William\", \"Richard\", \"Thomas\", \"Steven\", \n",
        "                 \"Mary\", \"Susan\", \"Maria\", \"Karen\", \"Lisa\", \"Linda\", \n",
        "                 \"Donna\", \"Patricia\", \"Debra\", \"Eric\"]\n",
        "\n",
        "        scores = [95, 87, 78, 86, 68, 94, 76, 97, 56, 98, 76, \n",
        "                  87, 79, 90, 73, 93, 82, 69, 97, 98]"
      ]
    },
    {
      "cell_type": "code",
      "metadata": {
        "id": "KW72tewNqP_Y",
        "outputId": "f6bb3464-da74-4aff-cb21-173ec368b8c7"
      },
      "source": [
        ""
      ],
      "execution_count": null,
      "outputs": [
        {
          "output_type": "stream",
          "text": [
            "Write the student name :  Karen\n"
          ],
          "name": "stdin"
        },
        {
          "output_type": "stream",
          "text": [
            "Score of Karen is 90\n"
          ],
          "name": "stdout"
        }
      ]
    },
    {
      "cell_type": "markdown",
      "metadata": {
        "id": "-7-xm-W2qP_Z"
      },
      "source": [
        "**3.** By using the two lists above, what is the maximum score and how many students got that score?"
      ]
    },
    {
      "cell_type": "code",
      "metadata": {
        "id": "tpqssLmKqP_Z",
        "outputId": "e2291714-55b0-4aa7-8da7-e379abb12d99"
      },
      "source": [
        ""
      ],
      "execution_count": null,
      "outputs": [
        {
          "output_type": "stream",
          "text": [
            "Max score :  98\n",
            "Number of student with max score : 2\n"
          ],
          "name": "stdout"
        }
      ]
    },
    {
      "cell_type": "markdown",
      "metadata": {
        "id": "YaAaUrFuqP_Z"
      },
      "source": [
        "**4.** We can confuse about how many days a month is. Create a list to handle it. You will have month names and day counts in your list together as a nested list."
      ]
    },
    {
      "cell_type": "code",
      "metadata": {
        "id": "cZwZnCmpqP_a",
        "outputId": "0605bea5-e1bb-4ab4-f398-0876bbe5dddb"
      },
      "source": [
        ""
      ],
      "execution_count": null,
      "outputs": [
        {
          "output_type": "stream",
          "text": [
            "[['January', 31], ['February', 28], ['March', 31], ['April', 30], ['May', 31], ['June', 30], ['July', 31], ['August', 31], ['September', 30], ['October', 31], ['November', 30], ['December', 31]]\n"
          ],
          "name": "stdout"
        }
      ]
    },
    {
      "cell_type": "markdown",
      "metadata": {
        "id": "Lb_-enpqqP_a"
      },
      "source": [
        "**5.** Now create lists of months for each season. Get month names and day counts from the list that you create before with slicing. Name the lists with seasons."
      ]
    },
    {
      "cell_type": "code",
      "metadata": {
        "id": "-omvNyNyqP_a"
      },
      "source": [
        ""
      ],
      "execution_count": null,
      "outputs": []
    },
    {
      "cell_type": "markdown",
      "metadata": {
        "id": "DfrYSJ3CqP_b"
      },
      "source": [
        "**6.** Finally, from the list in the previous question, calculate how many days the summer season lasts."
      ]
    },
    {
      "cell_type": "code",
      "metadata": {
        "id": "zRi6rMxQqP_b",
        "outputId": "59bc1db8-7c21-4f5d-bc12-179ef3770c68"
      },
      "source": [
        ""
      ],
      "execution_count": null,
      "outputs": [
        {
          "output_type": "stream",
          "text": [
            "Summer lasts 92 days\n"
          ],
          "name": "stdout"
        }
      ]
    }
  ]
}