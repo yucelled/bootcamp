{
  "nbformat": 4,
  "nbformat_minor": 0,
  "metadata": {
    "colab": {
      "name": "Copy of A_02_BasicDataTypes_en.ipynb",
      "provenance": [],
      "collapsed_sections": [],
      "include_colab_link": true
    },
    "kernelspec": {
      "display_name": "Python 3",
      "language": "python",
      "name": "python3"
    },
    "language_info": {
      "codemirror_mode": {
        "name": "ipython",
        "version": 3
      },
      "file_extension": ".py",
      "mimetype": "text/x-python",
      "name": "python",
      "nbconvert_exporter": "python",
      "pygments_lexer": "ipython3",
      "version": "3.8.7"
    }
  },
  "cells": [
    {
      "cell_type": "markdown",
      "metadata": {
        "id": "view-in-github",
        "colab_type": "text"
      },
      "source": [
        "<a href=\"https://colab.research.google.com/github/yucelled/bootcamp/blob/main/A_02_BasicDataTypes_en.ipynb\" target=\"_parent\"><img src=\"https://colab.research.google.com/assets/colab-badge.svg\" alt=\"Open In Colab\"/></a>"
      ]
    },
    {
      "cell_type": "code",
      "metadata": {
        "colab": {
          "base_uri": "https://localhost:8080/"
        },
        "id": "PXY_84Hxty0e",
        "outputId": "54fe9185-2abe-4628-a6ab-189d1ab2c89e"
      },
      "source": [
        "investment = 1000\n",
        "gain = 0.12\n",
        "days = 7\n",
        "profit = (1 + gain) ** days\n",
        "result = profit * investment \n",
        "result"
      ],
      "execution_count": null,
      "outputs": [
        {
          "output_type": "execute_result",
          "data": {
            "text/plain": [
              "2210.6814074060812"
            ]
          },
          "metadata": {
            "tags": []
          },
          "execution_count": 17
        }
      ]
    },
    {
      "cell_type": "markdown",
      "metadata": {
        "id": "2MnBfHrhkY_W"
      },
      "source": [
        "**(1)** Suppose you invested in Bitcoin at the end of 2017 when Bitcoin gained a lot of value. What would be your money at the end of a week if you had invested \\$1000 with an average daily increase of 12\\% ? You can solve the problem using Python."
      ]
    },
    {
      "cell_type": "code",
      "metadata": {
        "id": "sukX87HrhC9K",
        "colab": {
          "base_uri": "https://localhost:8080/"
        },
        "outputId": "5b6370d1-fe99-4ba0-e15f-e48385ca4986"
      },
      "source": [
        "investment = 1000 \n",
        "gain = investment + (7*(investment*(1.12**7)))\n",
        "gain"
      ],
      "execution_count": null,
      "outputs": [
        {
          "output_type": "execute_result",
          "data": {
            "text/plain": [
              "16474.769851842568"
            ]
          },
          "metadata": {
            "tags": []
          },
          "execution_count": 10
        }
      ]
    },
    {
      "cell_type": "markdown",
      "metadata": {
        "id": "Kk0vsyA9kY_X"
      },
      "source": [
        "**(2)**  Print the text in quotes with Python. However, you must get the numbers from variables using `.format()` notation. <br> Because the text is long, you might consider writing in two lines:\n",
        "\n",
        "        `\"When we buy bitcoin with 1000 USD at the beginning of the week, we would earn 1210.68 USD at the end of the week, with an average gain of 12\\%.\"`"
      ]
    },
    {
      "cell_type": "code",
      "metadata": {
        "id": "z-D7CSBWhC9M",
        "colab": {
          "base_uri": "https://localhost:8080/"
        },
        "outputId": "b46f64fa-5ffd-47ad-d282-3bcc1190136b"
      },
      "source": [
        "print(\"\"\"When we buy bitcoin with {} USD at the beginning of the week,\n",
        "we would earn {:.2f} USD at the end of the week, with an average gain of {}%.\"\"\".format(investment, result-investment, gain*100))"
      ],
      "execution_count": null,
      "outputs": [
        {
          "output_type": "stream",
          "text": [
            "When we buy bitcoin with 1000 USD at the beginning of the week,\n",
            "we would earn 1210.68 USD at the end of the week, with an average gain of 12.0%.\n"
          ],
          "name": "stdout"
        }
      ]
    },
    {
      "cell_type": "markdown",
      "metadata": {
        "id": "UifLXZilkY_Y"
      },
      "source": [
        "**(3)**  Get the temperature in Fahrenheit from user and write a code to convert it to Celcius. For conversion, you can use this formula: C = (5/9) * (F - 32)\n",
        "\n",
        "        Enter the temperature in Fahrenheit: \n",
        "        user --> 26\n",
        "        output --> Temperature (C) : -3.33"
      ]
    },
    {
      "cell_type": "code",
      "metadata": {
        "id": "QB0joMsThC9M",
        "colab": {
          "base_uri": "https://localhost:8080/"
        },
        "outputId": "d764f6a6-6f55-449a-945f-f5b552086f1d"
      },
      "source": [
        "user = input(\"Temperature in Fahrenheit:\")\n",
        "print(\"Temperature (C):{:.2f}\".format((5/9)* (int(user) - 32)))"
      ],
      "execution_count": null,
      "outputs": [
        {
          "output_type": "stream",
          "text": [
            "Temperature in Fahrenheit:26\n",
            "Temperature (C):-3.33\n"
          ],
          "name": "stdout"
        }
      ]
    },
    {
      "cell_type": "markdown",
      "metadata": {
        "id": "IJSruOwzkY_Y"
      },
      "source": [
        "**(4)**  Get a three digit number the from user and calculate the sum of the digits in the integer.\n",
        "\n",
        "        user --> 365\n",
        "        output --> \"The sum of digits in the number is 14"
      ]
    },
    {
      "cell_type": "code",
      "metadata": {
        "id": "bxZI_l2shC9N",
        "colab": {
          "base_uri": "https://localhost:8080/"
        },
        "outputId": "def1b069-4d64-412c-ce75-e8e50b2ae3d0"
      },
      "source": [
        "user = int(input())\n",
        "total = 0\n",
        "while(user>0) :\n",
        "  digit=user%10\n",
        "  total=total+digit\n",
        "  user=user//10\n",
        "print(\"The sum of digits in the number is:\", total)"
      ],
      "execution_count": 1,
      "outputs": [
        {
          "output_type": "stream",
          "text": [
            "365\n",
            "The sum of digits in the number is: 14\n"
          ],
          "name": "stdout"
        }
      ]
    },
    {
      "cell_type": "code",
      "metadata": {
        "id": "kJ7SCBW_8R0q",
        "outputId": "a3b63d9e-37b4-48d5-e383-7d65af20579b",
        "colab": {
          "base_uri": "https://localhost:8080/"
        }
      },
      "source": [
        "user = 365595959\n",
        "while user > 9:\n",
        "  total = 0 \n",
        "  for digit in str(user):\n",
        "    total = total + int(digit)\n",
        "  user = total \n",
        "\n",
        "total\n"
      ],
      "execution_count": 10,
      "outputs": [
        {
          "output_type": "execute_result",
          "data": {
            "text/plain": [
              "2"
            ]
          },
          "metadata": {
            "tags": []
          },
          "execution_count": 10
        }
      ]
    },
    {
      "cell_type": "markdown",
      "metadata": {
        "id": "s4ncKZc1kY_Z"
      },
      "source": [
        "**(5)**  Write some code to calculate the hypotenuse of a right angled triangle. Get the side lengths from the user.\n",
        "\n",
        "        user --> first side lenth : 6\n",
        "        user --> first side lenth : 8\n",
        "        output --> \"The length of the hypotenuse is 10"
      ]
    },
    {
      "cell_type": "code",
      "metadata": {
        "id": "6xJh2gpThC9O",
        "colab": {
          "base_uri": "https://localhost:8080/"
        },
        "outputId": "83cea887-283e-490c-9b58-d65d7aaf422d"
      },
      "source": [
        "\n",
        "from math import sqrt\n",
        "a = float(input(\"first side length: \"))\n",
        "b = float(input(\"first side length: \"))\n",
        "c = sqrt(a**2 + b**2)\n",
        "print(\"The length of the hypotenuse is:\", c)"
      ],
      "execution_count": null,
      "outputs": [
        {
          "output_type": "stream",
          "text": [
            "first side length: 6\n",
            "first side length: 8\n",
            "The length of the hypotenuse is: 10.0\n"
          ],
          "name": "stdout"
        }
      ]
    }
  ]
}