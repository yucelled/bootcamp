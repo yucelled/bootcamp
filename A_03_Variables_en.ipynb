{
  "nbformat": 4,
  "nbformat_minor": 0,
  "metadata": {
    "kernelspec": {
      "display_name": "Python 3",
      "language": "python",
      "name": "python3"
    },
    "language_info": {
      "codemirror_mode": {
        "name": "ipython",
        "version": 3
      },
      "file_extension": ".py",
      "mimetype": "text/x-python",
      "name": "python",
      "nbconvert_exporter": "python",
      "pygments_lexer": "ipython3",
      "version": "3.8.7"
    },
    "colab": {
      "name": "Copy of A_03_Variables_en.ipynb",
      "provenance": [],
      "include_colab_link": true
    }
  },
  "cells": [
    {
      "cell_type": "markdown",
      "metadata": {
        "id": "view-in-github",
        "colab_type": "text"
      },
      "source": [
        "<a href=\"https://colab.research.google.com/github/yucelled/bootcamp/blob/main/A_03_Variables_en.ipynb\" target=\"_parent\"><img src=\"https://colab.research.google.com/assets/colab-badge.svg\" alt=\"Open In Colab\"/></a>"
      ]
    },
    {
      "cell_type": "markdown",
      "metadata": {
        "id": "eJPxZg8GmomE"
      },
      "source": [
        "**(1)** Define two variables as `x` and `y`. Assign `1` to `x` and `'1'` to `y`. Then check if two variables have the same value and type."
      ]
    },
    {
      "cell_type": "code",
      "metadata": {
        "id": "g_acnhRvmomP",
        "colab": {
          "base_uri": "https://localhost:8080/"
        },
        "outputId": "49948ded-a4ef-4f34-9874-f90ad4595c6a"
      },
      "source": [
        "x = 1\n",
        "y = '1'\n",
        "\n",
        "print('Value of x:', x)\n",
        "print('Value of y:', y)\n",
        "\n",
        "print(type(x), type(y))"
      ],
      "execution_count": 10,
      "outputs": [
        {
          "output_type": "stream",
          "text": [
            "Value of x: 1\n",
            "Value of y: 1\n",
            "<class 'int'> <class 'str'>\n"
          ],
          "name": "stdout"
        }
      ]
    },
    {
      "cell_type": "markdown",
      "metadata": {
        "id": "FXxqRlNDmomR"
      },
      "source": [
        "**(2)** Change the type of variable `y` and make the two variables the same."
      ]
    },
    {
      "cell_type": "code",
      "metadata": {
        "id": "yCaIDkTzmomS",
        "colab": {
          "base_uri": "https://localhost:8080/"
        },
        "outputId": "2bae9b60-c579-4aea-8a6c-d37de1d84b16"
      },
      "source": [
        "# changing the type of variable y\n",
        "y = int(y)\n",
        "\n",
        "#let's see if two variables are the same\n",
        "print('Value of x:', x)\n",
        "print('Value of y', y)\n",
        "print(type(x), type(y))"
      ],
      "execution_count": 24,
      "outputs": [
        {
          "output_type": "stream",
          "text": [
            "Value of x: 1\n",
            "Value of y 1\n",
            "<class 'int'> <class 'int'>\n"
          ],
          "name": "stdout"
        }
      ]
    }
  ]
}