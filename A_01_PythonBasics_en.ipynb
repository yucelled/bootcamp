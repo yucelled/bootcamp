{
  "nbformat": 4,
  "nbformat_minor": 0,
  "metadata": {
    "colab": {
      "name": "A_01_PythonBasics_en.ipynb",
      "provenance": [],
      "collapsed_sections": [],
      "toc_visible": true,
      "include_colab_link": true
    },
    "kernelspec": {
      "display_name": "Python 3",
      "language": "python",
      "name": "python3"
    },
    "language_info": {
      "codemirror_mode": {
        "name": "ipython",
        "version": 3
      },
      "file_extension": ".py",
      "mimetype": "text/x-python",
      "name": "python",
      "nbconvert_exporter": "python",
      "pygments_lexer": "ipython3",
      "version": "3.8.7"
    }
  },
  "cells": [
    {
      "cell_type": "markdown",
      "metadata": {
        "id": "view-in-github",
        "colab_type": "text"
      },
      "source": [
        "<a href=\"https://colab.research.google.com/github/yucelled/bootcamp/blob/main/A_01_PythonBasics_en.ipynb\" target=\"_parent\"><img src=\"https://colab.research.google.com/assets/colab-badge.svg\" alt=\"Open In Colab\"/></a>"
      ]
    },
    {
      "cell_type": "markdown",
      "metadata": {
        "id": "7yJWDdXYiZq_"
      },
      "source": [
        "**(1)** Write a code that outputs your name and surname in one line."
      ]
    },
    {
      "cell_type": "code",
      "metadata": {
        "id": "4XfGh1bqiZq_",
        "colab": {
          "base_uri": "https://localhost:8080/"
        },
        "outputId": "5a49a5aa-64e1-4b21-df66-5d1aa409c099"
      },
      "source": [
        "print('Dilan Yucel')"
      ],
      "execution_count": 1,
      "outputs": [
        {
          "output_type": "stream",
          "text": [
            "Dilan Yucel\n"
          ],
          "name": "stdout"
        }
      ]
    },
    {
      "cell_type": "markdown",
      "metadata": {
        "id": "honld9ReiZrB"
      },
      "source": [
        "**(2)** Write a 1-line code that outputs your name and surname in two separate lines by using a single `print()` call."
      ]
    },
    {
      "cell_type": "code",
      "metadata": {
        "id": "CFrKQC6liZrB",
        "colab": {
          "base_uri": "https://localhost:8080/"
        },
        "outputId": "4a912ea8-4217-4fcd-fbab-1c076cc3e687"
      },
      "source": [
        "print('Dilan \\nYucel')"
      ],
      "execution_count": 4,
      "outputs": [
        {
          "output_type": "stream",
          "text": [
            "Dilan \n",
            "Yucel\n"
          ],
          "name": "stdout"
        }
      ]
    },
    {
      "cell_type": "markdown",
      "metadata": {
        "id": "JQ2-qXDjiZrB"
      },
      "source": [
        "**(3)** Use a single `print()` function that returns the following text. Notice the quotes in the text. Those quotes should be seen in the output!: \n",
        "\n",
        "`She will be a \"champion\" even if she finishes the race in '2nd' place`\n"
      ]
    },
    {
      "cell_type": "code",
      "metadata": {
        "colab": {
          "base_uri": "https://localhost:8080/"
        },
        "id": "Gl5Bmu-Lgjw5",
        "outputId": "dfbd638d-5920-44d7-b9ce-4aad6074ad0e"
      },
      "source": [
        "print('She will be a \\\"champion\\\" even if she finishes the race in \\'2nd\\' place')"
      ],
      "execution_count": 10,
      "outputs": [
        {
          "output_type": "stream",
          "text": [
            "She will be a \"champion\" even if she finishes the race in '2nd' place\n"
          ],
          "name": "stdout"
        }
      ]
    }
  ]
}